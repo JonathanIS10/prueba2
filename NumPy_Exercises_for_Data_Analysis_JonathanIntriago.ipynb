{
  "cells": [
    {
      "cell_type": "markdown",
      "metadata": {
        "id": "view-in-github",
        "colab_type": "text"
      },
      "source": [
        "<a href=\"https://colab.research.google.com/github/JonathanIS10/prueba2/blob/main/NumPy_Exercises_for_Data_Analysis_JonathanIntriago.ipynb\" target=\"_parent\"><img src=\"https://colab.research.google.com/assets/colab-badge.svg\" alt=\"Open In Colab\"/></a>"
      ]
    },
    {
      "cell_type": "code",
      "source": [
        "import numpy as np\n",
        "np. __version__\n"
      ],
      "metadata": {
        "id": "-SK2gw_R2xsS",
        "outputId": "093e2e4a-7eab-40cb-ee33-357d1e8b48ef",
        "colab": {
          "base_uri": "https://localhost:8080/",
          "height": 35
        }
      },
      "execution_count": 2,
      "outputs": [
        {
          "output_type": "execute_result",
          "data": {
            "text/plain": [
              "'1.22.4'"
            ],
            "application/vnd.google.colaboratory.intrinsic+json": {
              "type": "string"
            }
          },
          "metadata": {},
          "execution_count": 2
        }
      ]
    },
    {
      "cell_type": "code",
      "source": [
        "array = np.array([1, 2, 3, 4, 5, 6, 7, 8, 9])\n",
        "print(array)"
      ],
      "metadata": {
        "id": "sr-HeEDP25V7",
        "outputId": "7d5dd9fb-3ce0-4cbe-8be2-569b33273f23",
        "colab": {
          "base_uri": "https://localhost:8080/"
        }
      },
      "execution_count": 3,
      "outputs": [
        {
          "output_type": "stream",
          "name": "stdout",
          "text": [
            "[1 2 3 4 5 6 7 8 9]\n"
          ]
        }
      ]
    },
    {
      "cell_type": "code",
      "source": [
        "array = np.ones((3, 3), dtype=bool)\n",
        "print(array)"
      ],
      "metadata": {
        "id": "ggZ9b0Bj26pR",
        "outputId": "2a038d91-4899-42f5-b847-cf507a6dbe82",
        "colab": {
          "base_uri": "https://localhost:8080/"
        }
      },
      "execution_count": 4,
      "outputs": [
        {
          "output_type": "stream",
          "name": "stdout",
          "text": [
            "[[ True  True  True]\n",
            " [ True  True  True]\n",
            " [ True  True  True]]\n"
          ]
        }
      ]
    },
    {
      "cell_type": "code",
      "source": [
        "odd_numbers = array[array % 2 != 0]\n",
        "print(odd_numbers)"
      ],
      "metadata": {
        "id": "c6kX70acFxy4",
        "outputId": "84d92ed5-351f-401b-f2d0-0f3c9320aa87",
        "colab": {
          "base_uri": "https://localhost:8080/"
        }
      },
      "execution_count": 5,
      "outputs": [
        {
          "output_type": "stream",
          "name": "stdout",
          "text": [
            "[ True  True  True  True  True  True  True  True  True]\n"
          ]
        }
      ]
    },
    {
      "cell_type": "code",
      "source": [
        "array[array % 2 != 0] = -1\n",
        "print(array)"
      ],
      "metadata": {
        "id": "s6l_oCm4F5BG",
        "outputId": "5a340e26-947e-4a7e-f94b-56bb65567350",
        "colab": {
          "base_uri": "https://localhost:8080/"
        }
      },
      "execution_count": 6,
      "outputs": [
        {
          "output_type": "stream",
          "name": "stdout",
          "text": [
            "[[ True  True  True]\n",
            " [ True  True  True]\n",
            " [ True  True  True]]\n"
          ]
        }
      ]
    },
    {
      "cell_type": "code",
      "source": [
        "matriz1d= np.array([1, 2, 3, 4, 5, 6, 7, 8, 9, 10])\n",
        "matriz2d = matriz1d.reshape(2, -1)\n",
        "print(matriz2d)"
      ],
      "metadata": {
        "id": "S2E5mnKFF7yd",
        "outputId": "12922899-b562-4fd3-aaa4-5a7a0969efb8",
        "colab": {
          "base_uri": "https://localhost:8080/"
        }
      },
      "execution_count": 7,
      "outputs": [
        {
          "output_type": "stream",
          "name": "stdout",
          "text": [
            "[[ 1  2  3  4  5]\n",
            " [ 6  7  8  9 10]]\n"
          ]
        }
      ]
    },
    {
      "cell_type": "code",
      "source": [
        "A = np.array([1, 2, 3, 4, 5])\n",
        "B = np.array([6, 7, 8, 9, 10])\n",
        "\n",
        "stacked = np.vstack((A, B))\n",
        "print(stacked)"
      ],
      "metadata": {
        "id": "J-WyMsZlF9xs",
        "outputId": "19ed4323-7592-4774-e734-2ac3c8402784",
        "colab": {
          "base_uri": "https://localhost:8080/"
        }
      },
      "execution_count": 8,
      "outputs": [
        {
          "output_type": "stream",
          "name": "stdout",
          "text": [
            "[[ 1  2  3  4  5]\n",
            " [ 6  7  8  9 10]]\n"
          ]
        }
      ]
    },
    {
      "cell_type": "code",
      "source": [
        "A = np.array([1, 2, 3, 4, 5])\n",
        "B = np.array([6, 7, 8, 9, 10])\n",
        "\n",
        "stacked = np.hstack((A, B))\n",
        "print(stacked)"
      ],
      "metadata": {
        "id": "H-GGBEOKGQI6",
        "outputId": "3814cfda-9b88-40bb-a837-4ec775c4fc49",
        "colab": {
          "base_uri": "https://localhost:8080/"
        }
      },
      "execution_count": 9,
      "outputs": [
        {
          "output_type": "stream",
          "name": "stdout",
          "text": [
            "[ 1  2  3  4  5  6  7  8  9 10]\n"
          ]
        }
      ]
    },
    {
      "cell_type": "code",
      "source": [
        "a = np.arange(15)\n",
        "print(a[5:11])"
      ],
      "metadata": {
        "id": "NXxyjtTrGUux",
        "outputId": "4e6166ee-216d-44d3-e66a-e61e005fb9e4",
        "colab": {
          "base_uri": "https://localhost:8080/"
        }
      },
      "execution_count": 10,
      "outputs": [
        {
          "output_type": "stream",
          "name": "stdout",
          "text": [
            "[ 5  6  7  8  9 10]\n"
          ]
        }
      ]
    },
    {
      "cell_type": "code",
      "source": [
        "def suma_escalar(matriz, escalar):\n",
        "    resultado = np.add(matriz, escalar)\n",
        "    return resultado\n",
        "    a = np.array([5, 7, 9, 8, 6, 4, 5])\n",
        "    b = np.array([6, 3, 4, 8, 9, 7, 1])\n",
        "\n",
        "resultado = suma_escalar(a, b)\n",
        "print(resultado)"
      ],
      "metadata": {
        "id": "qRlGqp7TGXE7",
        "outputId": "29944ca5-8ac3-48f6-a09a-be667919ac5f",
        "colab": {
          "base_uri": "https://localhost:8080/",
          "height": 217
        }
      },
      "execution_count": 11,
      "outputs": [
        {
          "output_type": "error",
          "ename": "NameError",
          "evalue": "ignored",
          "traceback": [
            "\u001b[0;31m---------------------------------------------------------------------------\u001b[0m",
            "\u001b[0;31mNameError\u001b[0m                                 Traceback (most recent call last)",
            "\u001b[0;32m<ipython-input-11-75c0d6a1359f>\u001b[0m in \u001b[0;36m<cell line: 7>\u001b[0;34m()\u001b[0m\n\u001b[1;32m      5\u001b[0m     \u001b[0mb\u001b[0m \u001b[0;34m=\u001b[0m \u001b[0mnp\u001b[0m\u001b[0;34m.\u001b[0m\u001b[0marray\u001b[0m\u001b[0;34m(\u001b[0m\u001b[0;34m[\u001b[0m\u001b[0;36m6\u001b[0m\u001b[0;34m,\u001b[0m \u001b[0;36m3\u001b[0m\u001b[0;34m,\u001b[0m \u001b[0;36m4\u001b[0m\u001b[0;34m,\u001b[0m \u001b[0;36m8\u001b[0m\u001b[0;34m,\u001b[0m \u001b[0;36m9\u001b[0m\u001b[0;34m,\u001b[0m \u001b[0;36m7\u001b[0m\u001b[0;34m,\u001b[0m \u001b[0;36m1\u001b[0m\u001b[0;34m]\u001b[0m\u001b[0;34m)\u001b[0m\u001b[0;34m\u001b[0m\u001b[0;34m\u001b[0m\u001b[0m\n\u001b[1;32m      6\u001b[0m \u001b[0;34m\u001b[0m\u001b[0m\n\u001b[0;32m----> 7\u001b[0;31m \u001b[0mresultado\u001b[0m \u001b[0;34m=\u001b[0m \u001b[0msuma_escalar\u001b[0m\u001b[0;34m(\u001b[0m\u001b[0ma\u001b[0m\u001b[0;34m,\u001b[0m \u001b[0mb\u001b[0m\u001b[0;34m)\u001b[0m\u001b[0;34m\u001b[0m\u001b[0;34m\u001b[0m\u001b[0m\n\u001b[0m\u001b[1;32m      8\u001b[0m \u001b[0mprint\u001b[0m\u001b[0;34m(\u001b[0m\u001b[0mresultado\u001b[0m\u001b[0;34m)\u001b[0m\u001b[0;34m\u001b[0m\u001b[0;34m\u001b[0m\u001b[0m\n",
            "\u001b[0;31mNameError\u001b[0m: name 'b' is not defined"
          ]
        }
      ]
    },
    {
      "cell_type": "code",
      "source": [
        "matriz = np.array([[4, 5, 1], [2, 3, 7], [6, 8, 9]])\n",
        "matriz[:, [1, 2]] = matriz[:, [2, 1]]\n",
        "print(matriz)"
      ],
      "metadata": {
        "colab": {
          "base_uri": "https://localhost:8080/"
        },
        "id": "k81a4ge9HFsA",
        "outputId": "aedf63bb-57dd-4569-e0a6-12cd30f02524"
      },
      "execution_count": 12,
      "outputs": [
        {
          "output_type": "stream",
          "name": "stdout",
          "text": [
            "[[4 1 5]\n",
            " [2 7 3]\n",
            " [6 9 8]]\n"
          ]
        }
      ]
    },
    {
      "cell_type": "code",
      "source": [
        "matriz = np.random.uniform(5, 10, size=(5, 3))\n",
        "print(matriz)"
      ],
      "metadata": {
        "colab": {
          "base_uri": "https://localhost:8080/"
        },
        "id": "x01WDdnkHKBN",
        "outputId": "e17640ad-7266-4a6c-e624-214deb09cb21"
      },
      "execution_count": 13,
      "outputs": [
        {
          "output_type": "stream",
          "name": "stdout",
          "text": [
            "[[6.97401028 5.36137642 5.85159202]\n",
            " [8.16830426 9.36064787 6.71035541]\n",
            " [6.43370491 9.51425253 6.45452964]\n",
            " [9.73286417 7.15354746 6.66739365]\n",
            " [7.33070604 6.46641196 5.13780455]]\n"
          ]
        }
      ]
    }
  ],
  "metadata": {
    "colab": {
      "toc_visible": true,
      "provenance": [],
      "include_colab_link": true
    },
    "kernelspec": {
      "display_name": "Python 3",
      "name": "python3"
    }
  },
  "nbformat": 4,
  "nbformat_minor": 0
}