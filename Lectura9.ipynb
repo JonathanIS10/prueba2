{
  "nbformat": 4,
  "nbformat_minor": 0,
  "metadata": {
    "colab": {
      "provenance": [],
      "authorship_tag": "ABX9TyPekk8vQg7wkh/gDlSYp3WV",
      "include_colab_link": true
    },
    "kernelspec": {
      "name": "python3",
      "display_name": "Python 3"
    },
    "language_info": {
      "name": "python"
    }
  },
  "cells": [
    {
      "cell_type": "markdown",
      "metadata": {
        "id": "view-in-github",
        "colab_type": "text"
      },
      "source": [
        "<a href=\"https://colab.research.google.com/github/JonathanIS10/prueba2/blob/main/Lectura9.ipynb\" target=\"_parent\"><img src=\"https://colab.research.google.com/assets/colab-badge.svg\" alt=\"Open In Colab\"/></a>"
      ]
    },
    {
      "cell_type": "code",
      "execution_count": null,
      "metadata": {
        "colab": {
          "base_uri": "https://localhost:8080/"
        },
        "id": "WF5Y2tYmRjyp",
        "outputId": "baaa3fd1-5a08-40d9-c71a-7d652886e6a3"
      },
      "outputs": [
        {
          "output_type": "stream",
          "name": "stdout",
          "text": [
            "Python 3.10.6\n"
          ]
        }
      ],
      "source": [
        "!python --version"
      ]
    },
    {
      "cell_type": "markdown",
      "source": [
        "TIPOS DE DATOS BASICOS"
      ],
      "metadata": {
        "id": "_pQPdgSERtfT"
      }
    },
    {
      "cell_type": "code",
      "source": [
        "sample1=10\n",
        "sample2=2.2\n",
        "sample3='jonathan'\n",
        "print(type(sample1))\n",
        "print(type(sample2))\n",
        "print(type(sample3))\n",
        "print(sample1+sample2)\n",
        "print(sample1*sample2)\n",
        "print(sample1**2)\n",
        "\n",
        "s1=True\n",
        "s2=False\n",
        "print(s1 and s2)\n",
        "print(s1 or s2)\n",
        "print(not s1)\n",
        "\n",
        "print(len(sample3))\n",
        "print(sample3.upper())\n",
        "print(sample3.lower())\n",
        "print(sample3.capitalize())"
      ],
      "metadata": {
        "colab": {
          "base_uri": "https://localhost:8080/"
        },
        "id": "ehj2E1smR0kW",
        "outputId": "1eac12c5-1280-4567-92e7-614dc50c6c53"
      },
      "execution_count": 1,
      "outputs": [
        {
          "output_type": "stream",
          "name": "stdout",
          "text": [
            "<class 'int'>\n",
            "<class 'float'>\n",
            "<class 'str'>\n",
            "12.2\n",
            "22.0\n",
            "100\n",
            "False\n",
            "True\n",
            "False\n",
            "8\n",
            "JONATHAN\n",
            "jonathan\n",
            "Jonathan\n"
          ]
        }
      ]
    }
  ]
}